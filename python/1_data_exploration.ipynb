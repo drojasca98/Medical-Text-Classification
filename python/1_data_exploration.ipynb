{
 "cells": [
  {
   "cell_type": "markdown",
   "id": "aad0fd59-b2b0-4a80-8d63-40860f26e457",
   "metadata": {},
   "source": [
    "# DATA EXPLORATION"
   ]
  },
  {
   "cell_type": "markdown",
   "id": "5eca9ade-dfaf-47ab-9904-f279a64fbb37",
   "metadata": {},
   "source": [
    "Import libraries"
   ]
  },
  {
   "cell_type": "code",
   "execution_count": 54,
   "id": "63e45251-5a15-4204-9229-01afccb73620",
   "metadata": {},
   "outputs": [],
   "source": [
    "import pandas as pd\n",
    "import nltk\n",
    "\n",
    "# For stop word filtering\n",
    "#nltk.download(\"stopwords\")\n",
    "from nltk.corpus import stopwords\n",
    "\n",
    "from nltk.tokenize import RegexpTokenizer, word_tokenize\n",
    "#nltk.download('punkt_tab')\n",
    "\n",
    "from nltk.stem import WordNetLemmatizer"
   ]
  },
  {
   "cell_type": "markdown",
   "id": "e072015f-08fd-4efd-ad41-3c35d1511222",
   "metadata": {},
   "source": [
    "Load input files"
   ]
  },
  {
   "cell_type": "code",
   "execution_count": 28,
   "id": "17a4db14-b774-4fb0-9b20-60d97daa83be",
   "metadata": {},
   "outputs": [
    {
     "data": {
      "text/html": [
       "<div>\n",
       "<style scoped>\n",
       "    .dataframe tbody tr th:only-of-type {\n",
       "        vertical-align: middle;\n",
       "    }\n",
       "\n",
       "    .dataframe tbody tr th {\n",
       "        vertical-align: top;\n",
       "    }\n",
       "\n",
       "    .dataframe thead th {\n",
       "        text-align: right;\n",
       "    }\n",
       "</style>\n",
       "<table border=\"1\" class=\"dataframe\">\n",
       "  <thead>\n",
       "    <tr style=\"text-align: right;\">\n",
       "      <th></th>\n",
       "      <th>condition_label</th>\n",
       "      <th>medical_abstract</th>\n",
       "    </tr>\n",
       "  </thead>\n",
       "  <tbody>\n",
       "    <tr>\n",
       "      <th>0</th>\n",
       "      <td>3</td>\n",
       "      <td>Obstructive sleep apnea following topical orop...</td>\n",
       "    </tr>\n",
       "    <tr>\n",
       "      <th>1</th>\n",
       "      <td>5</td>\n",
       "      <td>Neutrophil function and pyogenic infections in...</td>\n",
       "    </tr>\n",
       "    <tr>\n",
       "      <th>2</th>\n",
       "      <td>5</td>\n",
       "      <td>A phase II study of combined methotrexate and ...</td>\n",
       "    </tr>\n",
       "    <tr>\n",
       "      <th>3</th>\n",
       "      <td>1</td>\n",
       "      <td>Flow cytometric DNA analysis of parathyroid tu...</td>\n",
       "    </tr>\n",
       "    <tr>\n",
       "      <th>4</th>\n",
       "      <td>4</td>\n",
       "      <td>Paraneoplastic vasculitic neuropathy: a treata...</td>\n",
       "    </tr>\n",
       "    <tr>\n",
       "      <th>5</th>\n",
       "      <td>1</td>\n",
       "      <td>Treatment of childhood angiomatous diseases wi...</td>\n",
       "    </tr>\n",
       "    <tr>\n",
       "      <th>6</th>\n",
       "      <td>1</td>\n",
       "      <td>Expression of major histocompatibility complex...</td>\n",
       "    </tr>\n",
       "    <tr>\n",
       "      <th>7</th>\n",
       "      <td>1</td>\n",
       "      <td>Questionable role of CNS radioprophylaxis in t...</td>\n",
       "    </tr>\n",
       "    <tr>\n",
       "      <th>8</th>\n",
       "      <td>5</td>\n",
       "      <td>Reversibility of hepatic fibrosis in experimen...</td>\n",
       "    </tr>\n",
       "    <tr>\n",
       "      <th>9</th>\n",
       "      <td>2</td>\n",
       "      <td>Current status of duplex Doppler ultrasound in...</td>\n",
       "    </tr>\n",
       "  </tbody>\n",
       "</table>\n",
       "</div>"
      ],
      "text/plain": [
       "   condition_label                                   medical_abstract\n",
       "0                3  Obstructive sleep apnea following topical orop...\n",
       "1                5  Neutrophil function and pyogenic infections in...\n",
       "2                5  A phase II study of combined methotrexate and ...\n",
       "3                1  Flow cytometric DNA analysis of parathyroid tu...\n",
       "4                4  Paraneoplastic vasculitic neuropathy: a treata...\n",
       "5                1  Treatment of childhood angiomatous diseases wi...\n",
       "6                1  Expression of major histocompatibility complex...\n",
       "7                1  Questionable role of CNS radioprophylaxis in t...\n",
       "8                5  Reversibility of hepatic fibrosis in experimen...\n",
       "9                2  Current status of duplex Doppler ultrasound in..."
      ]
     },
     "execution_count": 28,
     "metadata": {},
     "output_type": "execute_result"
    }
   ],
   "source": [
    "# Train data path\n",
    "train_df = \"../data/medical_tc_train.csv\"\n",
    "# Test data path\n",
    "test_df = \"../data/medical_tc_test.csv\"\n",
    "# Labels path\n",
    "labels_df = \"../data/medical_tc_labels.csv\"\n",
    "\n",
    "# Open train data\n",
    "train_df = pd.read_csv(train_df)\n",
    "test_df = pd.read_csv(test_df)\n",
    "labels_df = pd.read_csv(labels_df)\n",
    "\n",
    "# Visualize top 10 rows\n",
    "#train_df.head(10)\n",
    "test_df.head(10)\n",
    "#labels_df.head(10)"
   ]
  },
  {
   "cell_type": "markdown",
   "id": "d12e0948-aa32-45a2-b67b-8ce9ac6e8807",
   "metadata": {},
   "source": [
    "Add labels to train data for posterior visualization"
   ]
  },
  {
   "cell_type": "code",
   "execution_count": 35,
   "id": "2b813d5a-5034-4596-a2a3-2451c9875695",
   "metadata": {},
   "outputs": [
    {
     "data": {
      "text/html": [
       "<div>\n",
       "<style scoped>\n",
       "    .dataframe tbody tr th:only-of-type {\n",
       "        vertical-align: middle;\n",
       "    }\n",
       "\n",
       "    .dataframe tbody tr th {\n",
       "        vertical-align: top;\n",
       "    }\n",
       "\n",
       "    .dataframe thead th {\n",
       "        text-align: right;\n",
       "    }\n",
       "</style>\n",
       "<table border=\"1\" class=\"dataframe\">\n",
       "  <thead>\n",
       "    <tr style=\"text-align: right;\">\n",
       "      <th></th>\n",
       "      <th>condition_label</th>\n",
       "      <th>medical_abstract</th>\n",
       "      <th>condition_name</th>\n",
       "    </tr>\n",
       "  </thead>\n",
       "  <tbody>\n",
       "    <tr>\n",
       "      <th>0</th>\n",
       "      <td>5</td>\n",
       "      <td>Tissue changes around loose prostheses. A cani...</td>\n",
       "      <td>general pathological conditions</td>\n",
       "    </tr>\n",
       "    <tr>\n",
       "      <th>1</th>\n",
       "      <td>1</td>\n",
       "      <td>Neuropeptide Y and neuron-specific enolase lev...</td>\n",
       "      <td>neoplasms</td>\n",
       "    </tr>\n",
       "    <tr>\n",
       "      <th>2</th>\n",
       "      <td>2</td>\n",
       "      <td>Sexually transmitted diseases of the colon, re...</td>\n",
       "      <td>digestive system diseases</td>\n",
       "    </tr>\n",
       "    <tr>\n",
       "      <th>3</th>\n",
       "      <td>1</td>\n",
       "      <td>Lipolytic factors associated with murine and h...</td>\n",
       "      <td>neoplasms</td>\n",
       "    </tr>\n",
       "    <tr>\n",
       "      <th>4</th>\n",
       "      <td>3</td>\n",
       "      <td>Does carotid restenosis predict an increased r...</td>\n",
       "      <td>nervous system diseases</td>\n",
       "    </tr>\n",
       "  </tbody>\n",
       "</table>\n",
       "</div>"
      ],
      "text/plain": [
       "   condition_label                                   medical_abstract  \\\n",
       "0                5  Tissue changes around loose prostheses. A cani...   \n",
       "1                1  Neuropeptide Y and neuron-specific enolase lev...   \n",
       "2                2  Sexually transmitted diseases of the colon, re...   \n",
       "3                1  Lipolytic factors associated with murine and h...   \n",
       "4                3  Does carotid restenosis predict an increased r...   \n",
       "\n",
       "                    condition_name  \n",
       "0  general pathological conditions  \n",
       "1                        neoplasms  \n",
       "2        digestive system diseases  \n",
       "3                        neoplasms  \n",
       "4          nervous system diseases  "
      ]
     },
     "execution_count": 35,
     "metadata": {},
     "output_type": "execute_result"
    }
   ],
   "source": [
    "train_df = pd.merge(train_df,labels_df, how = \"left\", on = \"condition_label\")\n",
    "\n",
    "# Visualize top rows\n",
    "train_df.head()"
   ]
  },
  {
   "attachments": {},
   "cell_type": "markdown",
   "id": "8280e5b1-5546-4e82-8733-39147d515a55",
   "metadata": {},
   "source": [
    "## 1. Text Processing\n",
    "### 1.1. Lower text and remove stopwords / punctuation\n",
    "Stop words are frequently found in all kind of texts since thay contribute to the sentence structure and meaning. However, they should be removed (depending on the analysis) to reduce the noise they might produce. Also, after removing them we will have a reduced text amount to process (data size reduction) and an improved performance. Besides, to have a more homogenous text it is necessary to lower all the text and remove punctuations."
   ]
  },
  {
   "cell_type": "code",
   "execution_count": null,
   "id": "811b8840-5d7e-45c5-acc7-3ab0973a0791",
   "metadata": {},
   "outputs": [],
   "source": [
    "# Define stop words\n",
    "stop_words = set(stopwords.words(\"english\"))"
   ]
  },
  {
   "cell_type": "markdown",
   "id": "181c457e-0d8a-431d-b9ee-1e3f2ecefce0",
   "metadata": {},
   "source": [
    "Define function to remove stop words from data"
   ]
  },
  {
   "cell_type": "code",
   "execution_count": 55,
   "id": "1dc3fc67-1e14-4b74-8241-eae53cfc3930",
   "metadata": {},
   "outputs": [],
   "source": [
    "def remove_stopwords_punctutation(data_df):\n",
    "\n",
    "    # Define tokenizer\n",
    "    tokenizer = RegexpTokenizer(r\"\\w+\")\n",
    "    \n",
    "    # Initialize loop to iterate through\n",
    "    for i, row in data_df.iterrows():\n",
    "    \n",
    "        # Get cell\n",
    "        text = row[\"medical_abstract\"]\n",
    "    \n",
    "        # Check if the cell contains text\n",
    "        if isinstance(text, str):\n",
    "        \n",
    "            # Lower and tokenize text\n",
    "            tokens = tokenizer.tokenize(text.lower())\n",
    "        \n",
    "            # Remove stop words\n",
    "            tokens_clean = [token for token in tokens if token not in stop_words]\n",
    "        \n",
    "            # Detokenize text\n",
    "            cleaned_sentence = \" \".join(tokens_clean)\n",
    "\n",
    "            # Save processed text\n",
    "            data_df.loc[i, \"medical_abstract\"] = cleaned_sentence\n",
    "\n",
    "    # Return cleaned text\n",
    "    return data_df"
   ]
  },
  {
   "cell_type": "markdown",
   "id": "82a9d2a4-bd28-4b00-a9c5-0cce02abb5d2",
   "metadata": {},
   "source": [
    "Clean text"
   ]
  },
  {
   "cell_type": "code",
   "execution_count": 57,
   "id": "1f217798-d1f5-4918-8aa4-47d2ca3fff3d",
   "metadata": {},
   "outputs": [
    {
     "data": {
      "text/html": [
       "<div>\n",
       "<style scoped>\n",
       "    .dataframe tbody tr th:only-of-type {\n",
       "        vertical-align: middle;\n",
       "    }\n",
       "\n",
       "    .dataframe tbody tr th {\n",
       "        vertical-align: top;\n",
       "    }\n",
       "\n",
       "    .dataframe thead th {\n",
       "        text-align: right;\n",
       "    }\n",
       "</style>\n",
       "<table border=\"1\" class=\"dataframe\">\n",
       "  <thead>\n",
       "    <tr style=\"text-align: right;\">\n",
       "      <th></th>\n",
       "      <th>medical_abstract</th>\n",
       "    </tr>\n",
       "  </thead>\n",
       "  <tbody>\n",
       "    <tr>\n",
       "      <th>0</th>\n",
       "      <td>obstructive sleep apnea following topical orop...</td>\n",
       "    </tr>\n",
       "    <tr>\n",
       "      <th>1</th>\n",
       "      <td>neutrophil function pyogenic infections bone m...</td>\n",
       "    </tr>\n",
       "    <tr>\n",
       "      <th>2</th>\n",
       "      <td>phase ii study combined methotrexate teniposid...</td>\n",
       "    </tr>\n",
       "    <tr>\n",
       "      <th>3</th>\n",
       "      <td>flow cytometric dna analysis parathyroid tumor...</td>\n",
       "    </tr>\n",
       "    <tr>\n",
       "      <th>4</th>\n",
       "      <td>paraneoplastic vasculitic neuropathy treatable...</td>\n",
       "    </tr>\n",
       "  </tbody>\n",
       "</table>\n",
       "</div>"
      ],
      "text/plain": [
       "                                    medical_abstract\n",
       "0  obstructive sleep apnea following topical orop...\n",
       "1  neutrophil function pyogenic infections bone m...\n",
       "2  phase ii study combined methotrexate teniposid...\n",
       "3  flow cytometric dna analysis parathyroid tumor...\n",
       "4  paraneoplastic vasculitic neuropathy treatable..."
      ]
     },
     "execution_count": 57,
     "metadata": {},
     "output_type": "execute_result"
    }
   ],
   "source": [
    "# Train data\n",
    "train_clean_df = remove_stopwords_punctutation(train_df)\n",
    "# Test data\n",
    "test_clean_df = remove_stopwords_punctutation(test_df.drop(columns = [\"condition_label\"]))\n",
    "\n",
    "# Visualize top rows\n",
    "#train_clean_df.head()\n",
    "test_clean_df.head()"
   ]
  },
  {
   "cell_type": "markdown",
   "id": "e4e46b3f-8e60-4817-bc52-6e06645984b2",
   "metadata": {},
   "source": [
    "### 1.2. Lemmatize\n",
    "Lemmatizing reduce the words to their core meaning. For example, for words such as \"do\", \"doing\" and \"done\", lemmatizing will substitute them by \"do\", their core word. This process again reduces the amount of text to process (amount of total unique words), mak"
   ]
  }
 ],
 "metadata": {
  "kernelspec": {
   "display_name": "Python 3 (ipykernel)",
   "language": "python",
   "name": "python3"
  },
  "language_info": {
   "codemirror_mode": {
    "name": "ipython",
    "version": 3
   },
   "file_extension": ".py",
   "mimetype": "text/x-python",
   "name": "python",
   "nbconvert_exporter": "python",
   "pygments_lexer": "ipython3",
   "version": "3.10.16"
  }
 },
 "nbformat": 4,
 "nbformat_minor": 5
}
