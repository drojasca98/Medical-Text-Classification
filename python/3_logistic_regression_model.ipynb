{
 "cells": [
  {
   "cell_type": "code",
   "execution_count": 1,
   "id": "45edc5a4-68f5-45f6-b757-a0941f06a12d",
   "metadata": {},
   "outputs": [
    {
     "name": "stderr",
     "output_type": "stream",
     "text": [
      "[nltk_data] Downloading package stopwords to\n",
      "[nltk_data]     /home/labs/lslab/drojas/nltk_data...\n",
      "[nltk_data]   Package stopwords is already up-to-date!\n",
      "[nltk_data] Downloading package punkt_tab to\n",
      "[nltk_data]     /home/labs/lslab/drojas/nltk_data...\n",
      "[nltk_data]   Package punkt_tab is already up-to-date!\n",
      "[nltk_data] Downloading package wordnet to\n",
      "[nltk_data]     /home/labs/lslab/drojas/nltk_data...\n",
      "[nltk_data]   Package wordnet is already up-to-date!\n"
     ]
    }
   ],
   "source": [
    "# For Path handling\n",
    "from pathlib import Path\n",
    "\n",
    "# For General Data Wrangling and Calculations\n",
    "import pandas as pd\n",
    "import numpy as np\n",
    "\n",
    "# For plotting\n",
    "import matplotlib.pyplot as plt\n",
    "import seaborn as sns\n",
    "\n",
    "# For NLP\n",
    "import nltk\n",
    "\n",
    "# For stop word filtering\n",
    "nltk.download(\"stopwords\")\n",
    "from nltk.corpus import stopwords\n",
    "\n",
    "# For tokenizing\n",
    "from nltk.tokenize import word_tokenize\n",
    "nltk.download('punkt_tab')\n",
    "nltk.download('wordnet')\n",
    "\n",
    "# For lemmatizing\n",
    "from nltk.stem import WordNetLemmatizer\n",
    "\n",
    "# For regex\n",
    "import re\n",
    "\n",
    "# To plot wordcloud\n",
    "from wordcloud import WordCloud\n",
    "\n",
    "# For PCA\n",
    "from sklearn.preprocessing import StandardScaler\n",
    "from sklearn.decomposition import PCA\n",
    "\n",
    "# For UMAP\n",
    "import umap\n",
    "%matplotlib inline"
   ]
  },
  {
   "cell_type": "code",
   "execution_count": 17,
   "id": "59ef1e78-dc4b-47fc-90d1-c1c811056316",
   "metadata": {},
   "outputs": [],
   "source": [
    "from scipy.sparse import csr_matrix\n",
    "from sklearn.linear_model import LogisticRegression"
   ]
  },
  {
   "cell_type": "code",
   "execution_count": 5,
   "id": "fcc0dd9b-4abc-4555-9797-0345b7836612",
   "metadata": {},
   "outputs": [],
   "source": [
    "# Train data path\n",
    "train_df = Path(\"../data/Raw/medical_tc_train.csv\")\n",
    "# Test data path\n",
    "test_df = Path(\"../data/Raw/medical_tc_test.csv\")\n",
    "# Labels path\n",
    "labels_df = Path(\"../data/Raw/medical_tc_labels.csv\")\n",
    "\n",
    "# TF-IDF\n",
    "tfidf_train = Path(\"../data/Processed/train_lemma_tfidf.npy\")\n",
    "tfidf_test = Path(\"../data/Processed/test_lemma_tfidf.npy\")\n",
    "\n",
    "# BioSent2Vec\n",
    "s2v_train = Path(\"../data/Processed/train_lemma_s2v.npy\")\n",
    "s2v_test = Path(\"../data/Processed/test_lemma_s2v.npy\")\n",
    "\n",
    "# Open Raw Data\n",
    "train_df = pd.read_csv(train_df)\n",
    "test_df = pd.read_csv(test_df)\n",
    "labels_df = pd.read_csv(labels_df)\n",
    "# Add Labels to Training and Testing sets\n",
    "train_df = pd.merge(train_df,labels_df, how = \"left\", on = \"condition_label\")\n",
    "test_df = pd.merge(test_df,labels_df, how = \"left\", on = \"condition_label\")\n",
    "\n",
    "# Open TF-IDF data\n",
    "tfidf_train = np.load(tfidf_train, allow_pickle = True)\n",
    "tfidf_test = np.load(tfidf_test, allow_pickle = True)\n",
    "\n",
    "# Open BioSent2Vec data\n",
    "s2v_train = np.load(s2v_train, allow_pickle = True)\n",
    "s2v_test = np.load(s2v_test, allow_pickle = True)"
   ]
  },
  {
   "cell_type": "code",
   "execution_count": 9,
   "id": "58cc3b7e-1d87-4cd3-9348-304e12b559bb",
   "metadata": {},
   "outputs": [],
   "source": [
    "# all parameters not specified are set to their defaults\n",
    "lr_tfidf = LogisticRegression()\n",
    "lr_s2v = LogisticRegression()"
   ]
  },
  {
   "cell_type": "code",
   "execution_count": 12,
   "id": "f630f7e1-26b2-48a9-8a0c-b89a754f120e",
   "metadata": {},
   "outputs": [
    {
     "name": "stdout",
     "output_type": "stream",
     "text": [
      "<Compressed Sparse Row sparse matrix of dtype 'float64'\n",
      "\twith 851607 stored elements and shape (11550, 32195)>\n",
      "  Coords\tValues\n",
      "  (0, 29627)\t0.05386115183152784\n",
      "  (0, 6179)\t0.04783106727703509\n",
      "  (0, 3749)\t0.08766145721836706\n",
      "  (0, 17409)\t0.11792768487733378\n",
      "  (0, 24369)\t0.17823227894688431\n",
      "  (0, 5588)\t0.2753100256076713\n",
      "  (0, 18924)\t0.18216834022276515\n",
      "  (0, 16085)\t0.07723152508209347\n",
      "  (0, 10199)\t0.08411110927963486\n",
      "  (0, 3400)\t0.11698474380344825\n",
      "  (0, 2588)\t0.12593111441860957\n",
      "  (0, 3866)\t0.15027082833364844\n",
      "  (0, 17411)\t0.13948978051487687\n",
      "  (0, 24432)\t0.07536014894754871\n",
      "  (0, 18064)\t0.04308010401275629\n",
      "  (0, 16088)\t0.2339694876068965\n",
      "  (0, 31579)\t0.14795068195443012\n",
      "  (0, 31575)\t0.13996693592302126\n",
      "  (0, 2296)\t0.16605921237462315\n",
      "  (0, 6024)\t0.1301501043904886\n",
      "  (0, 3936)\t0.04094205765292253\n",
      "  (0, 17413)\t0.46438286124471756\n",
      "  (0, 24141)\t0.1413335185536338\n",
      "  (0, 27082)\t0.05519727218446073\n",
      "  (0, 9627)\t0.07872106094433075\n",
      "  :\t:\n",
      "  (11549, 12043)\t0.1838599179460274\n",
      "  (11549, 21043)\t0.05254783666716992\n",
      "  (11549, 21279)\t0.0862187503668852\n",
      "  (11549, 24126)\t0.046069322428632056\n",
      "  (11549, 31984)\t0.11409389961862848\n",
      "  (11549, 11724)\t0.06684536227774061\n",
      "  (11549, 10567)\t0.06317988012642639\n",
      "  (11549, 27086)\t0.05770727045021535\n",
      "  (11549, 16442)\t0.08635300594573732\n",
      "  (11549, 9347)\t0.06988015561068305\n",
      "  (11549, 16895)\t0.05894849211400158\n",
      "  (11549, 29752)\t0.06883011827448368\n",
      "  (11549, 7534)\t0.07233184474746397\n",
      "  (11549, 26171)\t0.4064715127642028\n",
      "  (11549, 22113)\t0.0778229896584228\n",
      "  (11549, 26349)\t0.07942460149302598\n",
      "  (11549, 28301)\t0.2323679991916161\n",
      "  (11549, 12122)\t0.07609770595748667\n",
      "  (11549, 3558)\t0.10037416714401064\n",
      "  (11549, 28410)\t0.29363010634529946\n",
      "  (11549, 29745)\t0.31078187869605906\n",
      "  (11549, 19059)\t0.20074833428802127\n",
      "  (11549, 8871)\t0.20718791913070606\n",
      "  (11549, 16652)\t0.10359395956535303\n",
      "  (11549, 16653)\t0.10359395956535303\n"
     ]
    }
   ],
   "source": [
    "print(tfidf_train)"
   ]
  },
  {
   "cell_type": "code",
   "execution_count": 18,
   "id": "e17bcf23-a162-49b6-a18a-8c7c53ba38ac",
   "metadata": {},
   "outputs": [
    {
     "ename": "ValueError",
     "evalue": "The truth value of an array with more than one element is ambiguous. Use a.any() or a.all().",
     "output_type": "error",
     "traceback": [
      "\u001b[0;31m---------------------------------------------------------------------------\u001b[0m",
      "\u001b[0;31mValueError\u001b[0m                                Traceback (most recent call last)",
      "Cell \u001b[0;32mIn[18], line 2\u001b[0m\n\u001b[1;32m      1\u001b[0m \u001b[38;5;66;03m# Ensure the inputs are sparse matrices\u001b[39;00m\n\u001b[0;32m----> 2\u001b[0m tfidf_train \u001b[38;5;241m=\u001b[39m \u001b[43mcsr_matrix\u001b[49m\u001b[43m(\u001b[49m\u001b[43mtfidf_train\u001b[49m\u001b[43m)\u001b[49m\n\u001b[1;32m      3\u001b[0m s2v_train \u001b[38;5;241m=\u001b[39m csr_matrix(s2v_train)\n\u001b[1;32m      5\u001b[0m \u001b[38;5;66;03m# Train\u001b[39;00m\n",
      "File \u001b[0;32m/imppc/labs/lslab/drojas/miniconda3/envs/text_classification/lib/python3.10/site-packages/scipy/sparse/_compressed.py:94\u001b[0m, in \u001b[0;36m_cs_matrix.__init__\u001b[0;34m(self, arg1, shape, dtype, copy, maxprint)\u001b[0m\n\u001b[1;32m     91\u001b[0m \u001b[38;5;28;01mif\u001b[39;00m arg1\u001b[38;5;241m.\u001b[39mndim \u001b[38;5;241m>\u001b[39m \u001b[38;5;241m2\u001b[39m:\n\u001b[1;32m     92\u001b[0m     \u001b[38;5;28;01mraise\u001b[39;00m \u001b[38;5;167;01mValueError\u001b[39;00m(\u001b[38;5;124mf\u001b[39m\u001b[38;5;124m\"\u001b[39m\u001b[38;5;124mCSR arrays don\u001b[39m\u001b[38;5;124m'\u001b[39m\u001b[38;5;124mt yet support \u001b[39m\u001b[38;5;132;01m{\u001b[39;00marg1\u001b[38;5;241m.\u001b[39mndim\u001b[38;5;132;01m}\u001b[39;00m\u001b[38;5;124mD.\u001b[39m\u001b[38;5;124m\"\u001b[39m)\n\u001b[0;32m---> 94\u001b[0m coo \u001b[38;5;241m=\u001b[39m \u001b[38;5;28;43mself\u001b[39;49m\u001b[38;5;241;43m.\u001b[39;49m\u001b[43m_coo_container\u001b[49m\u001b[43m(\u001b[49m\u001b[43marg1\u001b[49m\u001b[43m,\u001b[49m\u001b[43m \u001b[49m\u001b[43mdtype\u001b[49m\u001b[38;5;241;43m=\u001b[39;49m\u001b[43mdtype\u001b[49m\u001b[43m)\u001b[49m\n\u001b[1;32m     95\u001b[0m arrays \u001b[38;5;241m=\u001b[39m coo\u001b[38;5;241m.\u001b[39m_coo_to_compressed(\u001b[38;5;28mself\u001b[39m\u001b[38;5;241m.\u001b[39m_swap)\n\u001b[1;32m     96\u001b[0m \u001b[38;5;28mself\u001b[39m\u001b[38;5;241m.\u001b[39mindptr, \u001b[38;5;28mself\u001b[39m\u001b[38;5;241m.\u001b[39mindices, \u001b[38;5;28mself\u001b[39m\u001b[38;5;241m.\u001b[39mdata, \u001b[38;5;28mself\u001b[39m\u001b[38;5;241m.\u001b[39m_shape \u001b[38;5;241m=\u001b[39m arrays\n",
      "File \u001b[0;32m/imppc/labs/lslab/drojas/miniconda3/envs/text_classification/lib/python3.10/site-packages/scipy/sparse/_coo.py:92\u001b[0m, in \u001b[0;36m_coo_base.__init__\u001b[0;34m(self, arg1, shape, dtype, copy, maxprint)\u001b[0m\n\u001b[1;32m     89\u001b[0m         \u001b[38;5;28;01mraise\u001b[39;00m \u001b[38;5;167;01mValueError\u001b[39;00m(message)\n\u001b[1;32m     91\u001b[0m index_dtype \u001b[38;5;241m=\u001b[39m \u001b[38;5;28mself\u001b[39m\u001b[38;5;241m.\u001b[39m_get_index_dtype(maxval\u001b[38;5;241m=\u001b[39m\u001b[38;5;28mmax\u001b[39m(\u001b[38;5;28mself\u001b[39m\u001b[38;5;241m.\u001b[39m_shape))\n\u001b[0;32m---> 92\u001b[0m coords \u001b[38;5;241m=\u001b[39m \u001b[43mM\u001b[49m\u001b[38;5;241;43m.\u001b[39;49m\u001b[43mnonzero\u001b[49m\u001b[43m(\u001b[49m\u001b[43m)\u001b[49m\n\u001b[1;32m     93\u001b[0m \u001b[38;5;28mself\u001b[39m\u001b[38;5;241m.\u001b[39mcoords \u001b[38;5;241m=\u001b[39m \u001b[38;5;28mtuple\u001b[39m(idx\u001b[38;5;241m.\u001b[39mastype(index_dtype, copy\u001b[38;5;241m=\u001b[39m\u001b[38;5;28;01mFalse\u001b[39;00m)\n\u001b[1;32m     94\u001b[0m                      \u001b[38;5;28;01mfor\u001b[39;00m idx \u001b[38;5;129;01min\u001b[39;00m coords)\n\u001b[1;32m     95\u001b[0m \u001b[38;5;28mself\u001b[39m\u001b[38;5;241m.\u001b[39mdata \u001b[38;5;241m=\u001b[39m getdata(M[coords], copy\u001b[38;5;241m=\u001b[39mcopy, dtype\u001b[38;5;241m=\u001b[39mdtype)\n",
      "File \u001b[0;32m/imppc/labs/lslab/drojas/miniconda3/envs/text_classification/lib/python3.10/site-packages/scipy/sparse/_base.py:417\u001b[0m, in \u001b[0;36m_spbase.__bool__\u001b[0;34m(self)\u001b[0m\n\u001b[1;32m    415\u001b[0m     \u001b[38;5;28;01mreturn\u001b[39;00m \u001b[38;5;28mself\u001b[39m\u001b[38;5;241m.\u001b[39mnnz \u001b[38;5;241m!=\u001b[39m \u001b[38;5;241m0\u001b[39m\n\u001b[1;32m    416\u001b[0m \u001b[38;5;28;01melse\u001b[39;00m:\n\u001b[0;32m--> 417\u001b[0m     \u001b[38;5;28;01mraise\u001b[39;00m \u001b[38;5;167;01mValueError\u001b[39;00m(\u001b[38;5;124m\"\u001b[39m\u001b[38;5;124mThe truth value of an array with more than one \u001b[39m\u001b[38;5;124m\"\u001b[39m\n\u001b[1;32m    418\u001b[0m                      \u001b[38;5;124m\"\u001b[39m\u001b[38;5;124melement is ambiguous. Use a.any() or a.all().\u001b[39m\u001b[38;5;124m\"\u001b[39m)\n",
      "\u001b[0;31mValueError\u001b[0m: The truth value of an array with more than one element is ambiguous. Use a.any() or a.all()."
     ]
    }
   ],
   "source": [
    "# Ensure the inputs are sparse matrices\n",
    "tfidf_train = csr_matrix(tfidf_train)\n",
    "s2v_train = csr_matrix(s2v_train)\n",
    "\n",
    "# Train\n",
    "lr_tfidf.fit(tfidf_train, train_df[\"condition_label\"]) # TF-IDF\n",
    "lr_s2v.fit(s2v_train, train_df[\"condition_label\"]) # BioSent2Vec"
   ]
  },
  {
   "cell_type": "code",
   "execution_count": 14,
   "id": "d2497752-ee3a-418d-97a4-c4e4f7417b16",
   "metadata": {},
   "outputs": [
    {
     "name": "stdout",
     "output_type": "stream",
     "text": [
      "<class 'numpy.ndarray'>\n",
      "<class 'numpy.ndarray'>\n"
     ]
    }
   ],
   "source": [
    "print(type(tfidf_train))  # Check type of tfidf_train\n",
    "print(type(s2v_train))  # Check type of s2v_train"
   ]
  }
 ],
 "metadata": {
  "kernelspec": {
   "display_name": "Python 3 (ipykernel)",
   "language": "python",
   "name": "python3"
  },
  "language_info": {
   "codemirror_mode": {
    "name": "ipython",
    "version": 3
   },
   "file_extension": ".py",
   "mimetype": "text/x-python",
   "name": "python",
   "nbconvert_exporter": "python",
   "pygments_lexer": "ipython3",
   "version": "3.10.16"
  }
 },
 "nbformat": 4,
 "nbformat_minor": 5
}
